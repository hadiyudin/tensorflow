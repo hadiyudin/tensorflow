{
 "cells": [
  {
   "cell_type": "markdown",
   "metadata": {},
   "source": [
    "<a href=\"https://www.pieriandata.com\"><img src=\"../Pierian_Data_Logo.PNG\"></a>\n",
    "<strong><center>Copyright by Pierian Data Inc.</center></strong> \n",
    "<strong><center>Created by Jose Marcial Portilla.</center></strong>"
   ]
  },
  {
   "cell_type": "markdown",
   "metadata": {},
   "source": [
    "# Tensorboard\n",
    "\n",
    "---\n",
    "---\n",
    "\n",
    "**NOTE: You must watch the corresponding video to understand this lecture. This notebook can't serve as a full guide. Please watch the video BEFORE posting questions to the QA forum.**\n",
    "\n",
    "---\n",
    "---\n",
    "\n",
    "Let's explore the built in data visualization capabilities that come with Tensorboard.\n",
    "\n",
    "Full official tutorial available here: https://www.tensorflow.org/tensorboard/get_started\n",
    "\n",
    "## Data"
   ]
  },
  {
   "cell_type": "code",
   "execution_count": 3,
   "metadata": {},
   "outputs": [],
   "source": [
    "import pandas as pd\n",
    "import numpy as np"
   ]
  },
  {
   "cell_type": "code",
   "execution_count": 4,
   "metadata": {},
   "outputs": [],
   "source": [
    "df = pd.read_csv('../DATA/cancer_classification.csv')"
   ]
  },
  {
   "cell_type": "markdown",
   "metadata": {},
   "source": [
    "### Train Test Split"
   ]
  },
  {
   "cell_type": "code",
   "execution_count": 5,
   "metadata": {},
   "outputs": [],
   "source": [
    "X = df.drop('benign_0__mal_1',axis=1).values\n",
    "y = df['benign_0__mal_1'].values"
   ]
  },
  {
   "cell_type": "code",
   "execution_count": 6,
   "metadata": {},
   "outputs": [],
   "source": [
    "from sklearn.model_selection import train_test_split"
   ]
  },
  {
   "cell_type": "code",
   "execution_count": 7,
   "metadata": {},
   "outputs": [],
   "source": [
    "X_train, X_test, y_train, y_test = train_test_split(X,y,test_size=0.25,random_state=101)"
   ]
  },
  {
   "cell_type": "markdown",
   "metadata": {},
   "source": [
    "\n",
    "### Scaling Data"
   ]
  },
  {
   "cell_type": "code",
   "execution_count": 8,
   "metadata": {},
   "outputs": [],
   "source": [
    "from sklearn.preprocessing import MinMaxScaler"
   ]
  },
  {
   "cell_type": "code",
   "execution_count": 9,
   "metadata": {},
   "outputs": [],
   "source": [
    "scaler = MinMaxScaler()"
   ]
  },
  {
   "cell_type": "code",
   "execution_count": 10,
   "metadata": {},
   "outputs": [
    {
     "data": {
      "text/plain": [
       "MinMaxScaler()"
      ]
     },
     "execution_count": 10,
     "metadata": {},
     "output_type": "execute_result"
    }
   ],
   "source": [
    "scaler.fit(X_train)"
   ]
  },
  {
   "cell_type": "code",
   "execution_count": 11,
   "metadata": {},
   "outputs": [],
   "source": [
    "X_train = scaler.transform(X_train)\n",
    "X_test = scaler.transform(X_test)"
   ]
  },
  {
   "cell_type": "markdown",
   "metadata": {},
   "source": [
    "## Creating the Model"
   ]
  },
  {
   "cell_type": "code",
   "execution_count": 12,
   "metadata": {},
   "outputs": [],
   "source": [
    "import tensorflow as tf\n",
    "from tensorflow.keras.models import Sequential\n",
    "from tensorflow.keras.layers import Dense, Activation,Dropout"
   ]
  },
  {
   "cell_type": "code",
   "execution_count": 13,
   "metadata": {},
   "outputs": [],
   "source": [
    "from tensorflow.keras.callbacks import EarlyStopping,TensorBoard"
   ]
  },
  {
   "cell_type": "code",
   "execution_count": 14,
   "metadata": {},
   "outputs": [],
   "source": [
    "early_stop = EarlyStopping(monitor='val_loss', mode='min', verbose=1, patience=25)"
   ]
  },
  {
   "cell_type": "code",
   "execution_count": 15,
   "metadata": {},
   "outputs": [
    {
     "data": {
      "text/plain": [
       "'C:\\\\Users\\\\moham\\\\Documents\\\\Bismillah\\\\Data Science\\\\Udemy\\\\Py-DS-ML-Bootcamp-master\\\\Refactored_Py_DS_ML_Bootcamp-master\\\\TensorFlow_FILES\\\\ANNs'"
      ]
     },
     "execution_count": 15,
     "metadata": {},
     "output_type": "execute_result"
    }
   ],
   "source": [
    "pwd"
   ]
  },
  {
   "cell_type": "markdown",
   "metadata": {},
   "source": [
    "## Creating the Tensorboard Callback\n",
    "\n",
    "TensorBoard is a visualization tool provided with TensorFlow.\n",
    "\n",
    "This callback logs events for TensorBoard, including:\n",
    "* Metrics summary plots\n",
    "* Training graph visualization\n",
    "* Activation histograms\n",
    "* Sampled profiling\n",
    "\n",
    "If you have installed TensorFlow with pip, you should be able\n",
    "to launch TensorBoard from the command line:\n",
    "\n",
    "```sh\n",
    "tensorboard --logdir=path_to_your_logs\n",
    "```\n",
    "\n",
    "You can find more information about TensorBoard\n",
    "[here](https://www.tensorflow.org/tensorboard/).\n",
    "\n",
    "    Arguments:\n",
    "        log_dir: the path of the directory where to save the log files to be\n",
    "          parsed by TensorBoard.\n",
    "        histogram_freq: frequency (in epochs) at which to compute activation and\n",
    "          weight histograms for the layers of the model. If set to 0, histograms\n",
    "          won't be computed. Validation data (or split) must be specified for\n",
    "          histogram visualizations.\n",
    "        write_graph: whether to visualize the graph in TensorBoard. The log file\n",
    "          can become quite large when write_graph is set to True.\n",
    "        write_images: whether to write model weights to visualize as image in\n",
    "          TensorBoard.\n",
    "        update_freq: `'batch'` or `'epoch'` or integer. When using `'batch'`,\n",
    "          writes the losses and metrics to TensorBoard after each batch. The same\n",
    "          applies for `'epoch'`. If using an integer, let's say `1000`, the\n",
    "          callback will write the metrics and losses to TensorBoard every 1000\n",
    "          samples. Note that writing too frequently to TensorBoard can slow down\n",
    "          your training.\n",
    "        profile_batch: Profile the batch to sample compute characteristics. By\n",
    "          default, it will profile the second batch. Set profile_batch=0 to\n",
    "          disable profiling. Must run in TensorFlow eager mode.\n",
    "        embeddings_freq: frequency (in epochs) at which embedding layers will\n",
    "          be visualized. If set to 0, embeddings won't be visualized.\n",
    "       "
   ]
  },
  {
   "cell_type": "code",
   "execution_count": 16,
   "metadata": {},
   "outputs": [],
   "source": [
    "from datetime import datetime"
   ]
  },
  {
   "cell_type": "code",
   "execution_count": 17,
   "metadata": {},
   "outputs": [
    {
     "data": {
      "text/plain": [
       "'2022-03-08--2123'"
      ]
     },
     "execution_count": 17,
     "metadata": {},
     "output_type": "execute_result"
    }
   ],
   "source": [
    "datetime.now().strftime(\"%Y-%m-%d--%H%M\")"
   ]
  },
  {
   "cell_type": "code",
   "execution_count": 18,
   "metadata": {},
   "outputs": [],
   "source": [
    "# WINDOWS: Use \"logs\\\\fit\"\n",
    "# MACOS/LINUX: Use \"logs\\fit\"\n",
    "\n",
    "log_directory = 'logs\\\\fit'\n",
    "\n",
    "# OPTIONAL: ADD A TIMESTAMP FOR UNIQUE FOLDER\n",
    "# timestamp = datetime.now().strftime(\"%Y-%m-%d--%H%M\")\n",
    "# log_directory = log_directory + '\\\\' + timestamp\n",
    "\n",
    "\n",
    "board = TensorBoard(log_dir=log_directory,histogram_freq=1,\n",
    "    write_graph=True,\n",
    "    write_images=True,\n",
    "    update_freq='epoch',\n",
    "    profile_batch=2,\n",
    "    embeddings_freq=1)"
   ]
  },
  {
   "cell_type": "markdown",
   "metadata": {},
   "source": [
    "Now create the model layers:"
   ]
  },
  {
   "cell_type": "code",
   "execution_count": 19,
   "metadata": {},
   "outputs": [],
   "source": [
    "model = Sequential()\n",
    "model.add(Dense(units=30,activation='relu'))\n",
    "model.add(Dropout(0.5))\n",
    "model.add(Dense(units=15,activation='relu'))\n",
    "model.add(Dropout(0.5))\n",
    "model.add(Dense(units=1,activation='sigmoid'))\n",
    "model.compile(loss='binary_crossentropy', optimizer='adam')"
   ]
  },
  {
   "cell_type": "markdown",
   "metadata": {},
   "source": [
    "## Train the Model"
   ]
  },
  {
   "cell_type": "code",
   "execution_count": 20,
   "metadata": {},
   "outputs": [
    {
     "name": "stdout",
     "output_type": "stream",
     "text": [
      "Epoch 1/600\n",
      "14/14 [==============================] - 1s 33ms/step - loss: 0.7184 - val_loss: 0.6812\n",
      "Epoch 2/600\n",
      "14/14 [==============================] - 0s 10ms/step - loss: 0.6902 - val_loss: 0.6691\n",
      "Epoch 3/600\n",
      "14/14 [==============================] - 0s 10ms/step - loss: 0.6769 - val_loss: 0.6550\n",
      "Epoch 4/600\n",
      "14/14 [==============================] - 0s 9ms/step - loss: 0.6598 - val_loss: 0.6354\n",
      "Epoch 5/600\n",
      "14/14 [==============================] - 0s 10ms/step - loss: 0.6339 - val_loss: 0.6065\n",
      "Epoch 6/600\n",
      "14/14 [==============================] - 0s 10ms/step - loss: 0.6308 - val_loss: 0.5823\n",
      "Epoch 7/600\n",
      "14/14 [==============================] - 0s 9ms/step - loss: 0.5957 - val_loss: 0.5558\n",
      "Epoch 8/600\n",
      "14/14 [==============================] - 0s 9ms/step - loss: 0.5767 - val_loss: 0.5330\n",
      "Epoch 9/600\n",
      "14/14 [==============================] - 0s 9ms/step - loss: 0.5661 - val_loss: 0.5067\n",
      "Epoch 10/600\n",
      "14/14 [==============================] - 0s 9ms/step - loss: 0.5365 - val_loss: 0.4845\n",
      "Epoch 11/600\n",
      "14/14 [==============================] - 0s 9ms/step - loss: 0.5181 - val_loss: 0.4583\n",
      "Epoch 12/600\n",
      "14/14 [==============================] - 0s 10ms/step - loss: 0.4839 - val_loss: 0.4316\n",
      "Epoch 13/600\n",
      "14/14 [==============================] - 0s 9ms/step - loss: 0.4930 - val_loss: 0.4185\n",
      "Epoch 14/600\n",
      "14/14 [==============================] - 0s 9ms/step - loss: 0.4685 - val_loss: 0.3915\n",
      "Epoch 15/600\n",
      "14/14 [==============================] - 0s 9ms/step - loss: 0.4312 - val_loss: 0.3670\n",
      "Epoch 16/600\n",
      "14/14 [==============================] - 0s 10ms/step - loss: 0.4502 - val_loss: 0.3527\n",
      "Epoch 17/600\n",
      "14/14 [==============================] - 0s 9ms/step - loss: 0.4478 - val_loss: 0.3368\n",
      "Epoch 18/600\n",
      "14/14 [==============================] - 0s 9ms/step - loss: 0.4380 - val_loss: 0.3339\n",
      "Epoch 19/600\n",
      "14/14 [==============================] - 0s 10ms/step - loss: 0.4224 - val_loss: 0.3151\n",
      "Epoch 20/600\n",
      "14/14 [==============================] - 0s 10ms/step - loss: 0.3930 - val_loss: 0.2947\n",
      "Epoch 21/600\n",
      "14/14 [==============================] - 0s 9ms/step - loss: 0.4036 - val_loss: 0.2846\n",
      "Epoch 22/600\n",
      "14/14 [==============================] - 0s 10ms/step - loss: 0.3725 - val_loss: 0.2717\n",
      "Epoch 23/600\n",
      "14/14 [==============================] - 0s 9ms/step - loss: 0.3677 - val_loss: 0.2589\n",
      "Epoch 24/600\n",
      "14/14 [==============================] - 0s 10ms/step - loss: 0.3653 - val_loss: 0.2492\n",
      "Epoch 25/600\n",
      "14/14 [==============================] - 0s 9ms/step - loss: 0.3530 - val_loss: 0.2386\n",
      "Epoch 26/600\n",
      "14/14 [==============================] - 0s 9ms/step - loss: 0.3218 - val_loss: 0.2246\n",
      "Epoch 27/600\n",
      "14/14 [==============================] - 0s 9ms/step - loss: 0.3237 - val_loss: 0.2168\n",
      "Epoch 28/600\n",
      "14/14 [==============================] - 0s 9ms/step - loss: 0.3254 - val_loss: 0.2116\n",
      "Epoch 29/600\n",
      "14/14 [==============================] - 0s 10ms/step - loss: 0.2949 - val_loss: 0.2008\n",
      "Epoch 30/600\n",
      "14/14 [==============================] - 0s 12ms/step - loss: 0.3068 - val_loss: 0.1955\n",
      "Epoch 31/600\n",
      "14/14 [==============================] - 0s 10ms/step - loss: 0.3032 - val_loss: 0.1925\n",
      "Epoch 32/600\n",
      "14/14 [==============================] - 0s 9ms/step - loss: 0.2998 - val_loss: 0.1862\n",
      "Epoch 33/600\n",
      "14/14 [==============================] - 0s 9ms/step - loss: 0.2596 - val_loss: 0.1741\n",
      "Epoch 34/600\n",
      "14/14 [==============================] - 0s 9ms/step - loss: 0.3123 - val_loss: 0.1708\n",
      "Epoch 35/600\n",
      "14/14 [==============================] - 0s 9ms/step - loss: 0.2972 - val_loss: 0.1707\n",
      "Epoch 36/600\n",
      "14/14 [==============================] - 0s 10ms/step - loss: 0.2602 - val_loss: 0.1644\n",
      "Epoch 37/600\n",
      "14/14 [==============================] - 0s 11ms/step - loss: 0.2443 - val_loss: 0.1565\n",
      "Epoch 38/600\n",
      "14/14 [==============================] - 0s 9ms/step - loss: 0.2451 - val_loss: 0.1525\n",
      "Epoch 39/600\n",
      "14/14 [==============================] - 0s 8ms/step - loss: 0.2507 - val_loss: 0.1538\n",
      "Epoch 40/600\n",
      "14/14 [==============================] - 0s 10ms/step - loss: 0.2614 - val_loss: 0.1468\n",
      "Epoch 41/600\n",
      "14/14 [==============================] - 0s 9ms/step - loss: 0.2977 - val_loss: 0.1421\n",
      "Epoch 42/600\n",
      "14/14 [==============================] - 0s 12ms/step - loss: 0.2399 - val_loss: 0.1423\n",
      "Epoch 43/600\n",
      "14/14 [==============================] - 0s 12ms/step - loss: 0.2232 - val_loss: 0.1428\n",
      "Epoch 44/600\n",
      "14/14 [==============================] - 0s 11ms/step - loss: 0.2363 - val_loss: 0.1338\n",
      "Epoch 45/600\n",
      "14/14 [==============================] - 0s 9ms/step - loss: 0.2113 - val_loss: 0.1280\n",
      "Epoch 46/600\n",
      "14/14 [==============================] - 0s 9ms/step - loss: 0.2317 - val_loss: 0.1288\n",
      "Epoch 47/600\n",
      "14/14 [==============================] - 0s 11ms/step - loss: 0.1911 - val_loss: 0.1214\n",
      "Epoch 48/600\n",
      "14/14 [==============================] - 0s 12ms/step - loss: 0.1954 - val_loss: 0.1206\n",
      "Epoch 49/600\n",
      "14/14 [==============================] - 0s 10ms/step - loss: 0.2141 - val_loss: 0.1316\n",
      "Epoch 50/600\n",
      "14/14 [==============================] - 0s 10ms/step - loss: 0.1813 - val_loss: 0.1218\n",
      "Epoch 51/600\n",
      "14/14 [==============================] - 0s 11ms/step - loss: 0.1934 - val_loss: 0.1157\n",
      "Epoch 52/600\n",
      "14/14 [==============================] - 0s 9ms/step - loss: 0.1716 - val_loss: 0.1124\n",
      "Epoch 53/600\n",
      "14/14 [==============================] - 0s 8ms/step - loss: 0.1918 - val_loss: 0.1127\n",
      "Epoch 54/600\n",
      "14/14 [==============================] - 0s 8ms/step - loss: 0.2173 - val_loss: 0.1078\n",
      "Epoch 55/600\n",
      "14/14 [==============================] - 0s 9ms/step - loss: 0.1833 - val_loss: 0.1081\n",
      "Epoch 56/600\n",
      "14/14 [==============================] - 0s 9ms/step - loss: 0.1583 - val_loss: 0.1102\n",
      "Epoch 57/600\n",
      "14/14 [==============================] - 0s 10ms/step - loss: 0.2041 - val_loss: 0.1212\n",
      "Epoch 58/600\n",
      "14/14 [==============================] - 0s 9ms/step - loss: 0.1761 - val_loss: 0.1071\n",
      "Epoch 59/600\n",
      "14/14 [==============================] - 0s 9ms/step - loss: 0.1813 - val_loss: 0.1041\n",
      "Epoch 60/600\n",
      "14/14 [==============================] - 0s 8ms/step - loss: 0.2007 - val_loss: 0.1069\n",
      "Epoch 61/600\n",
      "14/14 [==============================] - 0s 9ms/step - loss: 0.1567 - val_loss: 0.1122\n",
      "Epoch 62/600\n",
      "14/14 [==============================] - 0s 9ms/step - loss: 0.1597 - val_loss: 0.1037\n",
      "Epoch 63/600\n",
      "14/14 [==============================] - 0s 9ms/step - loss: 0.1726 - val_loss: 0.1030\n",
      "Epoch 64/600\n",
      "14/14 [==============================] - 0s 9ms/step - loss: 0.1629 - val_loss: 0.1041\n",
      "Epoch 65/600\n",
      "14/14 [==============================] - 0s 10ms/step - loss: 0.1621 - val_loss: 0.1028\n",
      "Epoch 66/600\n",
      "14/14 [==============================] - 0s 10ms/step - loss: 0.1304 - val_loss: 0.1018\n",
      "Epoch 67/600\n",
      "14/14 [==============================] - 0s 10ms/step - loss: 0.1351 - val_loss: 0.0935\n",
      "Epoch 68/600\n",
      "14/14 [==============================] - 0s 8ms/step - loss: 0.1549 - val_loss: 0.0943\n",
      "Epoch 69/600\n",
      "14/14 [==============================] - 0s 8ms/step - loss: 0.1310 - val_loss: 0.0957\n",
      "Epoch 70/600\n",
      "14/14 [==============================] - 0s 9ms/step - loss: 0.1623 - val_loss: 0.0962\n",
      "Epoch 71/600\n",
      "14/14 [==============================] - 0s 9ms/step - loss: 0.1582 - val_loss: 0.1086\n",
      "Epoch 72/600\n",
      "14/14 [==============================] - 0s 9ms/step - loss: 0.1545 - val_loss: 0.0987\n",
      "Epoch 73/600\n",
      "14/14 [==============================] - 0s 10ms/step - loss: 0.1871 - val_loss: 0.0942\n",
      "Epoch 74/600\n",
      "14/14 [==============================] - 0s 10ms/step - loss: 0.1276 - val_loss: 0.1033\n",
      "Epoch 75/600\n",
      "14/14 [==============================] - 0s 10ms/step - loss: 0.1361 - val_loss: 0.0963\n",
      "Epoch 76/600\n",
      "14/14 [==============================] - 0s 9ms/step - loss: 0.1592 - val_loss: 0.0962\n",
      "Epoch 77/600\n",
      "14/14 [==============================] - 0s 9ms/step - loss: 0.1534 - val_loss: 0.0958\n",
      "Epoch 78/600\n",
      "14/14 [==============================] - 0s 10ms/step - loss: 0.1252 - val_loss: 0.0973\n",
      "Epoch 79/600\n",
      "14/14 [==============================] - 0s 10ms/step - loss: 0.1333 - val_loss: 0.0937\n",
      "Epoch 80/600\n",
      "14/14 [==============================] - 0s 9ms/step - loss: 0.1287 - val_loss: 0.0966\n",
      "Epoch 81/600\n",
      "14/14 [==============================] - 0s 8ms/step - loss: 0.1389 - val_loss: 0.0919\n",
      "Epoch 82/600\n"
     ]
    },
    {
     "name": "stdout",
     "output_type": "stream",
     "text": [
      "14/14 [==============================] - 0s 9ms/step - loss: 0.1372 - val_loss: 0.0923\n",
      "Epoch 83/600\n",
      "14/14 [==============================] - 0s 9ms/step - loss: 0.1303 - val_loss: 0.0947\n",
      "Epoch 84/600\n",
      "14/14 [==============================] - 0s 9ms/step - loss: 0.1468 - val_loss: 0.1002\n",
      "Epoch 85/600\n",
      "14/14 [==============================] - 0s 9ms/step - loss: 0.1340 - val_loss: 0.0931\n",
      "Epoch 86/600\n",
      "14/14 [==============================] - 0s 9ms/step - loss: 0.1412 - val_loss: 0.0926\n",
      "Epoch 87/600\n",
      "14/14 [==============================] - 0s 8ms/step - loss: 0.1371 - val_loss: 0.0965\n",
      "Epoch 88/600\n",
      "14/14 [==============================] - 0s 9ms/step - loss: 0.1369 - val_loss: 0.0918\n",
      "Epoch 89/600\n",
      "14/14 [==============================] - 0s 10ms/step - loss: 0.1361 - val_loss: 0.0887\n",
      "Epoch 90/600\n",
      "14/14 [==============================] - 0s 10ms/step - loss: 0.1093 - val_loss: 0.0924\n",
      "Epoch 91/600\n",
      "14/14 [==============================] - 0s 9ms/step - loss: 0.1325 - val_loss: 0.0905\n",
      "Epoch 92/600\n",
      "14/14 [==============================] - 0s 9ms/step - loss: 0.1579 - val_loss: 0.0910\n",
      "Epoch 93/600\n",
      "14/14 [==============================] - 0s 9ms/step - loss: 0.1306 - val_loss: 0.0890\n",
      "Epoch 94/600\n",
      "14/14 [==============================] - 0s 8ms/step - loss: 0.1100 - val_loss: 0.0962\n",
      "Epoch 95/600\n",
      "14/14 [==============================] - 0s 9ms/step - loss: 0.1308 - val_loss: 0.0976\n",
      "Epoch 96/600\n",
      "14/14 [==============================] - 0s 9ms/step - loss: 0.1210 - val_loss: 0.0899\n",
      "Epoch 97/600\n",
      "14/14 [==============================] - 0s 9ms/step - loss: 0.1449 - val_loss: 0.0939\n",
      "Epoch 98/600\n",
      "14/14 [==============================] - 0s 9ms/step - loss: 0.1369 - val_loss: 0.0983\n",
      "Epoch 99/600\n",
      "14/14 [==============================] - 0s 9ms/step - loss: 0.1406 - val_loss: 0.0934\n",
      "Epoch 100/600\n",
      "14/14 [==============================] - 0s 9ms/step - loss: 0.1145 - val_loss: 0.0906\n",
      "Epoch 101/600\n",
      "14/14 [==============================] - 0s 8ms/step - loss: 0.0940 - val_loss: 0.0873\n",
      "Epoch 102/600\n",
      "14/14 [==============================] - 0s 9ms/step - loss: 0.1131 - val_loss: 0.0862\n",
      "Epoch 103/600\n",
      "14/14 [==============================] - 0s 8ms/step - loss: 0.1265 - val_loss: 0.1021\n",
      "Epoch 104/600\n",
      "14/14 [==============================] - 0s 9ms/step - loss: 0.1097 - val_loss: 0.0942\n",
      "Epoch 105/600\n",
      "14/14 [==============================] - 0s 8ms/step - loss: 0.1299 - val_loss: 0.1002\n",
      "Epoch 106/600\n",
      "14/14 [==============================] - 0s 10ms/step - loss: 0.1278 - val_loss: 0.0888\n",
      "Epoch 107/600\n",
      "14/14 [==============================] - 0s 9ms/step - loss: 0.1309 - val_loss: 0.0912\n",
      "Epoch 108/600\n",
      "14/14 [==============================] - 0s 8ms/step - loss: 0.1188 - val_loss: 0.0908\n",
      "Epoch 109/600\n",
      "14/14 [==============================] - 0s 9ms/step - loss: 0.1031 - val_loss: 0.0938\n",
      "Epoch 110/600\n",
      "14/14 [==============================] - 0s 9ms/step - loss: 0.1213 - val_loss: 0.0892\n",
      "Epoch 111/600\n",
      "14/14 [==============================] - 0s 10ms/step - loss: 0.1277 - val_loss: 0.0889\n",
      "Epoch 112/600\n",
      "14/14 [==============================] - 0s 10ms/step - loss: 0.1104 - val_loss: 0.0948\n",
      "Epoch 113/600\n",
      "14/14 [==============================] - 0s 9ms/step - loss: 0.1062 - val_loss: 0.1018\n",
      "Epoch 114/600\n",
      "14/14 [==============================] - 0s 9ms/step - loss: 0.1275 - val_loss: 0.0942\n",
      "Epoch 115/600\n",
      "14/14 [==============================] - 0s 9ms/step - loss: 0.1099 - val_loss: 0.1065\n",
      "Epoch 116/600\n",
      "14/14 [==============================] - 0s 8ms/step - loss: 0.1033 - val_loss: 0.0945\n",
      "Epoch 117/600\n",
      "14/14 [==============================] - 0s 10ms/step - loss: 0.1124 - val_loss: 0.0890\n",
      "Epoch 118/600\n",
      "14/14 [==============================] - 0s 9ms/step - loss: 0.1264 - val_loss: 0.1002\n",
      "Epoch 119/600\n",
      "14/14 [==============================] - 0s 9ms/step - loss: 0.1039 - val_loss: 0.0845\n",
      "Epoch 120/600\n",
      "14/14 [==============================] - 0s 9ms/step - loss: 0.1152 - val_loss: 0.1070\n",
      "Epoch 121/600\n",
      "14/14 [==============================] - 0s 8ms/step - loss: 0.1164 - val_loss: 0.0887\n",
      "Epoch 122/600\n",
      "14/14 [==============================] - 0s 9ms/step - loss: 0.1088 - val_loss: 0.0888\n",
      "Epoch 123/600\n",
      "14/14 [==============================] - 0s 10ms/step - loss: 0.1177 - val_loss: 0.0957\n",
      "Epoch 124/600\n",
      "14/14 [==============================] - 0s 8ms/step - loss: 0.1069 - val_loss: 0.0931\n",
      "Epoch 125/600\n",
      "14/14 [==============================] - 0s 9ms/step - loss: 0.0906 - val_loss: 0.0881\n",
      "Epoch 126/600\n",
      "14/14 [==============================] - 0s 9ms/step - loss: 0.0995 - val_loss: 0.0828\n",
      "Epoch 127/600\n",
      "14/14 [==============================] - 0s 8ms/step - loss: 0.1177 - val_loss: 0.0913\n",
      "Epoch 128/600\n",
      "14/14 [==============================] - 0s 9ms/step - loss: 0.0995 - val_loss: 0.1025\n",
      "Epoch 129/600\n",
      "14/14 [==============================] - 0s 9ms/step - loss: 0.1063 - val_loss: 0.0919\n",
      "Epoch 130/600\n",
      "14/14 [==============================] - 0s 9ms/step - loss: 0.1082 - val_loss: 0.0945\n",
      "Epoch 131/600\n",
      "14/14 [==============================] - 0s 11ms/step - loss: 0.0967 - val_loss: 0.0929\n",
      "Epoch 132/600\n",
      "14/14 [==============================] - 0s 9ms/step - loss: 0.1042 - val_loss: 0.0947\n",
      "Epoch 133/600\n",
      "14/14 [==============================] - 0s 8ms/step - loss: 0.0993 - val_loss: 0.0961\n",
      "Epoch 134/600\n",
      "14/14 [==============================] - 0s 9ms/step - loss: 0.1028 - val_loss: 0.0886\n",
      "Epoch 135/600\n",
      "14/14 [==============================] - 0s 10ms/step - loss: 0.1031 - val_loss: 0.0938\n",
      "Epoch 136/600\n",
      "14/14 [==============================] - 0s 9ms/step - loss: 0.0954 - val_loss: 0.0880\n",
      "Epoch 137/600\n",
      "14/14 [==============================] - 0s 9ms/step - loss: 0.1164 - val_loss: 0.0920\n",
      "Epoch 138/600\n",
      "14/14 [==============================] - 0s 9ms/step - loss: 0.1094 - val_loss: 0.1035\n",
      "Epoch 139/600\n",
      "14/14 [==============================] - 0s 10ms/step - loss: 0.1088 - val_loss: 0.1182\n",
      "Epoch 140/600\n",
      "14/14 [==============================] - 0s 9ms/step - loss: 0.0975 - val_loss: 0.0973\n",
      "Epoch 141/600\n",
      "14/14 [==============================] - 0s 9ms/step - loss: 0.1068 - val_loss: 0.0862\n",
      "Epoch 142/600\n",
      "14/14 [==============================] - 0s 9ms/step - loss: 0.0902 - val_loss: 0.1052\n",
      "Epoch 143/600\n",
      "14/14 [==============================] - 0s 9ms/step - loss: 0.0861 - val_loss: 0.0917\n",
      "Epoch 144/600\n",
      "14/14 [==============================] - 0s 9ms/step - loss: 0.0973 - val_loss: 0.0924\n",
      "Epoch 145/600\n",
      "14/14 [==============================] - 0s 10ms/step - loss: 0.0939 - val_loss: 0.0995\n",
      "Epoch 146/600\n",
      "14/14 [==============================] - 0s 9ms/step - loss: 0.0898 - val_loss: 0.0888\n",
      "Epoch 147/600\n",
      "14/14 [==============================] - 0s 9ms/step - loss: 0.0995 - val_loss: 0.0980\n",
      "Epoch 148/600\n",
      "14/14 [==============================] - 0s 9ms/step - loss: 0.0962 - val_loss: 0.0975\n",
      "Epoch 149/600\n",
      "14/14 [==============================] - 0s 10ms/step - loss: 0.0770 - val_loss: 0.1013\n",
      "Epoch 150/600\n",
      "14/14 [==============================] - 0s 10ms/step - loss: 0.1007 - val_loss: 0.0921\n",
      "Epoch 151/600\n",
      "14/14 [==============================] - 0s 10ms/step - loss: 0.0829 - val_loss: 0.0913\n",
      "Epoch 151: early stopping\n"
     ]
    },
    {
     "data": {
      "text/plain": [
       "<keras.callbacks.History at 0x279845acd90>"
      ]
     },
     "execution_count": 20,
     "metadata": {},
     "output_type": "execute_result"
    }
   ],
   "source": [
    "model.fit(x=X_train, \n",
    "          y=y_train, \n",
    "          epochs=600,\n",
    "          validation_data=(X_test, y_test), verbose=1,\n",
    "          callbacks=[early_stop,board]\n",
    "          )"
   ]
  },
  {
   "cell_type": "markdown",
   "metadata": {},
   "source": [
    "# Running Tensorboard\n"
   ]
  },
  {
   "cell_type": "markdown",
   "metadata": {},
   "source": [
    "## Running through the Command Line\n",
    "\n",
    "**Watch video to see how to run Tensorboard through a command line call.**"
   ]
  },
  {
   "cell_type": "markdown",
   "metadata": {},
   "source": [
    "Tensorboard will run locally in your browser at [http://localhost:6006/](http://localhost:6006/)\n"
   ]
  },
  {
   "cell_type": "code",
   "execution_count": 21,
   "metadata": {},
   "outputs": [
    {
     "name": "stdout",
     "output_type": "stream",
     "text": [
      "logs\\fit\n"
     ]
    }
   ],
   "source": [
    "print(log_directory)"
   ]
  },
  {
   "cell_type": "code",
   "execution_count": 22,
   "metadata": {},
   "outputs": [
    {
     "data": {
      "text/plain": [
       "'C:\\\\Users\\\\moham\\\\Documents\\\\Bismillah\\\\Data Science\\\\Udemy\\\\Py-DS-ML-Bootcamp-master\\\\Refactored_Py_DS_ML_Bootcamp-master\\\\TensorFlow_FILES\\\\ANNs'"
      ]
     },
     "execution_count": 22,
     "metadata": {},
     "output_type": "execute_result"
    }
   ],
   "source": [
    "pwd"
   ]
  },
  {
   "cell_type": "markdown",
   "metadata": {},
   "source": [
    "### Use cd at your command line to change directory to the file path reported back by pwd or your current .py file location.\n",
    "### Then run this code at your command line or terminal"
   ]
  },
  {
   "cell_type": "code",
   "execution_count": null,
   "metadata": {},
   "outputs": [],
   "source": [
    "tensorboard --logdir logs\\fit "
   ]
  }
 ],
 "metadata": {
  "kernelspec": {
   "display_name": "Python 3 (ipykernel)",
   "language": "python",
   "name": "python3"
  },
  "language_info": {
   "codemirror_mode": {
    "name": "ipython",
    "version": 3
   },
   "file_extension": ".py",
   "mimetype": "text/x-python",
   "name": "python",
   "nbconvert_exporter": "python",
   "pygments_lexer": "ipython3",
   "version": "3.9.7"
  }
 },
 "nbformat": 4,
 "nbformat_minor": 2
}
